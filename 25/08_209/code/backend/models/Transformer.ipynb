{
 "cells": [
  {
   "cell_type": "code",
   "execution_count": 1,
   "id": "317abf4c-d6eb-4f89-b662-712278f69662",
   "metadata": {},
   "outputs": [],
   "source": [
    "import numpy as np\n",
    "import pandas as pd\n",
    "import scipy.io\n",
    "import matplotlib.pyplot as plt\n",
    "\n",
    "from sklearn.preprocessing import MinMaxScaler\n",
    "from sklearn.model_selection import train_test_split\n",
    "\n",
    "import torch\n",
    "import torch.nn as nn\n",
    "from torch.utils.data import Dataset, DataLoader\n"
   ]
  },
  {
   "cell_type": "code",
   "execution_count": 2,
   "id": "00106033-4d51-421b-8235-b32d3949a8c7",
   "metadata": {},
   "outputs": [
    {
     "data": {
      "text/html": [
       "<div>\n",
       "<style scoped>\n",
       "    .dataframe tbody tr th:only-of-type {\n",
       "        vertical-align: middle;\n",
       "    }\n",
       "\n",
       "    .dataframe tbody tr th {\n",
       "        vertical-align: top;\n",
       "    }\n",
       "\n",
       "    .dataframe thead th {\n",
       "        text-align: right;\n",
       "    }\n",
       "</style>\n",
       "<table border=\"1\" class=\"dataframe\">\n",
       "  <thead>\n",
       "    <tr style=\"text-align: right;\">\n",
       "      <th></th>\n",
       "      <th>Cycle</th>\n",
       "      <th>Capacity (Ah)</th>\n",
       "      <th>SOH (%)</th>\n",
       "    </tr>\n",
       "  </thead>\n",
       "  <tbody>\n",
       "    <tr>\n",
       "      <th>0</th>\n",
       "      <td>1</td>\n",
       "      <td>0.770778</td>\n",
       "      <td>41.322550</td>\n",
       "    </tr>\n",
       "    <tr>\n",
       "      <th>1</th>\n",
       "      <td>3</td>\n",
       "      <td>1.865272</td>\n",
       "      <td>100.000000</td>\n",
       "    </tr>\n",
       "    <tr>\n",
       "      <th>2</th>\n",
       "      <td>5</td>\n",
       "      <td>1.858042</td>\n",
       "      <td>99.612425</td>\n",
       "    </tr>\n",
       "    <tr>\n",
       "      <th>3</th>\n",
       "      <td>7</td>\n",
       "      <td>1.850149</td>\n",
       "      <td>99.189259</td>\n",
       "    </tr>\n",
       "    <tr>\n",
       "      <th>4</th>\n",
       "      <td>9</td>\n",
       "      <td>1.848153</td>\n",
       "      <td>99.082267</td>\n",
       "    </tr>\n",
       "  </tbody>\n",
       "</table>\n",
       "</div>"
      ],
      "text/plain": [
       "   Cycle  Capacity (Ah)     SOH (%)\n",
       "0      1       0.770778   41.322550\n",
       "1      3       1.865272  100.000000\n",
       "2      5       1.858042   99.612425\n",
       "3      7       1.850149   99.189259\n",
       "4      9       1.848153   99.082267"
      ]
     },
     "execution_count": 2,
     "metadata": {},
     "output_type": "execute_result"
    }
   ],
   "source": [
    "# Load the .mat file\n",
    "data = scipy.io.loadmat(\"B0005.mat\")\n",
    "battery = data['B0005'][0][0]\n",
    "cycles = battery['cycle'][0]\n",
    "\n",
    "cycle_nums = []\n",
    "capacities = []\n",
    "\n",
    "for i, cycle in enumerate(cycles):\n",
    "    if cycle['type'][0] == 'charge':\n",
    "        d = cycle['data'][0, 0]\n",
    "        current = d['Current_charge'][0]\n",
    "        time = d['Time'][0]\n",
    "        \n",
    "        try:\n",
    "            time = [float(t) for t in time]\n",
    "        except:\n",
    "            time = time.astype(float)\n",
    "        \n",
    "        delta_t = np.diff(time)\n",
    "        current_avg = (current[1:] + current[:-1]) / 2\n",
    "        capacity = np.sum(current_avg * delta_t) / 3600  # Convert to Ah\n",
    "        \n",
    "        cycle_nums.append(i + 1)\n",
    "        capacities.append(capacity)\n",
    "\n",
    "df = pd.DataFrame({\n",
    "    'Cycle': cycle_nums,\n",
    "    'Capacity (Ah)': capacities\n",
    "})\n",
    "\n",
    "# Compute SOH\n",
    "initial_capacity = df['Capacity (Ah)'][:5].max()\n",
    "df['SOH (%)'] = (df['Capacity (Ah)'] / initial_capacity) * 100\n",
    "\n",
    "df.head()\n"
   ]
  },
  {
   "cell_type": "code",
   "execution_count": 3,
   "id": "d4068a9c-52a8-4d4f-b091-0b28d460a815",
   "metadata": {},
   "outputs": [
    {
     "name": "stdout",
     "output_type": "stream",
     "text": [
      "Input shape: (165, 5)\n",
      "Target shape: (165,)\n"
     ]
    }
   ],
   "source": [
    "# Define sequence creation function\n",
    "def create_sequences_transformer(data, seq_len=5):\n",
    "    X = []\n",
    "    y = []\n",
    "    for i in range(len(data) - seq_len):\n",
    "        seq = data[i:i+seq_len]\n",
    "        target = data[i+seq_len]\n",
    "        X.append(seq)\n",
    "        y.append(target)\n",
    "    return np.array(X), np.array(y)\n",
    "\n",
    "# Use SOH (%) values\n",
    "soh_values = df['SOH (%)'].values\n",
    "\n",
    "# Create sequences\n",
    "SEQ_LEN = 5\n",
    "X, y = create_sequences_transformer(soh_values, SEQ_LEN)\n",
    "\n",
    "print(\"Input shape:\", X.shape)  # e.g., (samples, seq_len)\n",
    "print(\"Target shape:\", y.shape)  # e.g., (samples,)\n"
   ]
  },
  {
   "cell_type": "code",
   "execution_count": 4,
   "id": "dbf4c851-aef9-474e-8412-942a67d96b12",
   "metadata": {},
   "outputs": [
    {
     "name": "stdout",
     "output_type": "stream",
     "text": [
      "X_tensor shape: torch.Size([165, 5, 1])\n",
      "y_tensor shape: torch.Size([165, 1])\n"
     ]
    }
   ],
   "source": [
    "from sklearn.preprocessing import MinMaxScaler\n",
    "import torch\n",
    "from torch.utils.data import TensorDataset, DataLoader\n",
    "\n",
    "# Normalize SOH values\n",
    "scaler = MinMaxScaler()\n",
    "soh_norm = scaler.fit_transform(soh_values.reshape(-1, 1)).flatten()\n",
    "\n",
    "# Recreate sequences using normalized SOH\n",
    "X_norm, y_norm = create_sequences_transformer(soh_norm, SEQ_LEN)\n",
    "\n",
    "# Convert to tensors and reshape for Transformer: (batch, seq_len, 1)\n",
    "X_tensor = torch.tensor(X_norm, dtype=torch.float32).unsqueeze(2)  # (N, seq_len, 1)\n",
    "y_tensor = torch.tensor(y_norm, dtype=torch.float32).unsqueeze(1)  # (N, 1)\n",
    "\n",
    "# Dataset and DataLoader\n",
    "dataset = TensorDataset(X_tensor, y_tensor)\n",
    "dataloader = DataLoader(dataset, batch_size=16, shuffle=True)\n",
    "\n",
    "print(\"X_tensor shape:\", X_tensor.shape)\n",
    "print(\"y_tensor shape:\", y_tensor.shape)\n"
   ]
  },
  {
   "cell_type": "code",
   "execution_count": 5,
   "id": "21e85b82-13ac-413c-b50c-baf77ecf6a5b",
   "metadata": {},
   "outputs": [],
   "source": [
    "import torch.nn as nn\n",
    "\n",
    "class TransformerSOHPredictor(nn.Module):\n",
    "    def __init__(self, input_dim=1, seq_len=5, model_dim=64, num_heads=4, num_layers=2):\n",
    "        super(TransformerSOHPredictor, self).__init__()\n",
    "\n",
    "        self.input_proj = nn.Linear(input_dim, model_dim)  # project input to model_dim\n",
    "        encoder_layer = nn.TransformerEncoderLayer(\n",
    "            d_model=model_dim,\n",
    "            nhead=num_heads,\n",
    "            dim_feedforward=128,\n",
    "            dropout=0.1,\n",
    "            batch_first=True\n",
    "        )\n",
    "        self.transformer_encoder = nn.TransformerEncoder(encoder_layer, num_layers=num_layers)\n",
    "\n",
    "        self.regressor = nn.Sequential(\n",
    "            nn.Flatten(),\n",
    "            nn.Linear(seq_len * model_dim, 64),\n",
    "            nn.ReLU(),\n",
    "            nn.Linear(64, 1)\n",
    "        )\n",
    "\n",
    "    def forward(self, x):\n",
    "        x = self.input_proj(x)\n",
    "        x = self.transformer_encoder(x)\n",
    "        out = self.regressor(x)\n",
    "        return out\n"
   ]
  },
  {
   "cell_type": "code",
   "execution_count": 6,
   "id": "324992c6-e17a-43c4-9996-5ab38e982044",
   "metadata": {},
   "outputs": [
    {
     "name": "stdout",
     "output_type": "stream",
     "text": [
      "TransformerSOHPredictor(\n",
      "  (input_proj): Linear(in_features=1, out_features=64, bias=True)\n",
      "  (transformer_encoder): TransformerEncoder(\n",
      "    (layers): ModuleList(\n",
      "      (0-1): 2 x TransformerEncoderLayer(\n",
      "        (self_attn): MultiheadAttention(\n",
      "          (out_proj): NonDynamicallyQuantizableLinear(in_features=64, out_features=64, bias=True)\n",
      "        )\n",
      "        (linear1): Linear(in_features=64, out_features=128, bias=True)\n",
      "        (dropout): Dropout(p=0.1, inplace=False)\n",
      "        (linear2): Linear(in_features=128, out_features=64, bias=True)\n",
      "        (norm1): LayerNorm((64,), eps=1e-05, elementwise_affine=True)\n",
      "        (norm2): LayerNorm((64,), eps=1e-05, elementwise_affine=True)\n",
      "        (dropout1): Dropout(p=0.1, inplace=False)\n",
      "        (dropout2): Dropout(p=0.1, inplace=False)\n",
      "      )\n",
      "    )\n",
      "  )\n",
      "  (regressor): Sequential(\n",
      "    (0): Flatten(start_dim=1, end_dim=-1)\n",
      "    (1): Linear(in_features=320, out_features=64, bias=True)\n",
      "    (2): ReLU()\n",
      "    (3): Linear(in_features=64, out_features=1, bias=True)\n",
      "  )\n",
      ")\n"
     ]
    }
   ],
   "source": [
    "model = TransformerSOHPredictor()\n",
    "criterion = nn.MSELoss()\n",
    "optimizer = torch.optim.Adam(model.parameters(), lr=0.001)\n",
    "\n",
    "print(model)\n"
   ]
  },
  {
   "cell_type": "code",
   "execution_count": 7,
   "id": "f710f4d1-58ea-4073-8281-48f99e441fd4",
   "metadata": {},
   "outputs": [
    {
     "name": "stdout",
     "output_type": "stream",
     "text": [
      "Epoch [10/100], Loss: 0.0176\n",
      "Epoch [20/100], Loss: 0.0314\n",
      "Epoch [30/100], Loss: 0.0157\n",
      "Epoch [40/100], Loss: 0.0149\n",
      "Epoch [50/100], Loss: 0.0131\n",
      "Epoch [60/100], Loss: 0.0106\n",
      "Epoch [70/100], Loss: 0.0092\n",
      "Epoch [80/100], Loss: 0.0110\n",
      "Epoch [90/100], Loss: 0.0098\n",
      "Epoch [100/100], Loss: 0.0094\n"
     ]
    }
   ],
   "source": [
    "# Move data and model to appropriate device\n",
    "device = torch.device('cuda' if torch.cuda.is_available() else 'cpu')\n",
    "model = model.to(device)\n",
    "X_tensor = X_tensor.to(device)\n",
    "y_tensor = y_tensor.to(device)\n",
    "\n",
    "# Training loop\n",
    "epochs = 100\n",
    "losses = []\n",
    "\n",
    "for epoch in range(epochs):\n",
    "    model.train()\n",
    "    optimizer.zero_grad()\n",
    "    output = model(X_tensor).squeeze()\n",
    "    loss = criterion(output, y_tensor.squeeze())\n",
    "    loss.backward()\n",
    "    optimizer.step()\n",
    "    losses.append(loss.item())\n",
    "\n",
    "    if (epoch + 1) % 10 == 0:\n",
    "        print(f\"Epoch [{epoch+1}/{epochs}], Loss: {loss.item():.4f}\")\n"
   ]
  },
  {
   "cell_type": "code",
   "execution_count": 8,
   "id": "18b3626d-dcae-44c6-8778-9c88d3cd8c39",
   "metadata": {},
   "outputs": [],
   "source": [
    "# Calculate min and max for SOH normalization (if not already done)\n",
    "soh_min = y_tensor.min().item()\n",
    "soh_max = y_tensor.max().item()\n",
    "\n",
    "# Normalize again (in case y_tensor was created directly from unnormalized y)\n",
    "y_tensor = (y_tensor - soh_min) / (soh_max - soh_min)\n"
   ]
  },
  {
   "cell_type": "code",
   "execution_count": 9,
   "id": "622ae7d4-031f-49e8-92ea-e9c2bb9c5ade",
   "metadata": {},
   "outputs": [],
   "source": [
    "# Evaluation\n",
    "model.eval()\n",
    "with torch.no_grad():\n",
    "    predicted = model(X_tensor).squeeze().cpu().numpy()\n",
    "    actual = y_tensor.squeeze().cpu().numpy()\n",
    "\n",
    "# Denormalize\n",
    "predicted_soh = predicted * (soh_max - soh_min) + soh_min\n",
    "actual_soh = actual * (soh_max - soh_min) + soh_min\n"
   ]
  },
  {
   "cell_type": "code",
   "execution_count": 14,
   "id": "ef4257c1-3c91-483a-be4e-5b037e0ab1bb",
   "metadata": {},
   "outputs": [
    {
     "data": {
      "text/html": [
       "<div>\n",
       "<style scoped>\n",
       "    .dataframe tbody tr th:only-of-type {\n",
       "        vertical-align: middle;\n",
       "    }\n",
       "\n",
       "    .dataframe tbody tr th {\n",
       "        vertical-align: top;\n",
       "    }\n",
       "\n",
       "    .dataframe thead th {\n",
       "        text-align: right;\n",
       "    }\n",
       "</style>\n",
       "<table border=\"1\" class=\"dataframe\">\n",
       "  <thead>\n",
       "    <tr style=\"text-align: right;\">\n",
       "      <th></th>\n",
       "      <th>Cycle</th>\n",
       "      <th>Capacity (Ah)</th>\n",
       "      <th>SOH (%)</th>\n",
       "      <th>Predicted SOH (%)</th>\n",
       "      <th>Predicted RUL (cycles)</th>\n",
       "    </tr>\n",
       "  </thead>\n",
       "  <tbody>\n",
       "    <tr>\n",
       "      <th>0</th>\n",
       "      <td>11</td>\n",
       "      <td>1.848912</td>\n",
       "      <td>99.122925</td>\n",
       "      <td>97.215584</td>\n",
       "      <td>98</td>\n",
       "    </tr>\n",
       "    <tr>\n",
       "      <th>1</th>\n",
       "      <td>13</td>\n",
       "      <td>1.847459</td>\n",
       "      <td>99.045036</td>\n",
       "      <td>98.512779</td>\n",
       "      <td>97</td>\n",
       "    </tr>\n",
       "    <tr>\n",
       "      <th>2</th>\n",
       "      <td>15</td>\n",
       "      <td>1.848649</td>\n",
       "      <td>99.108849</td>\n",
       "      <td>98.369507</td>\n",
       "      <td>96</td>\n",
       "    </tr>\n",
       "    <tr>\n",
       "      <th>3</th>\n",
       "      <td>17</td>\n",
       "      <td>1.837080</td>\n",
       "      <td>98.488586</td>\n",
       "      <td>98.303635</td>\n",
       "      <td>95</td>\n",
       "    </tr>\n",
       "    <tr>\n",
       "      <th>4</th>\n",
       "      <td>19</td>\n",
       "      <td>1.837181</td>\n",
       "      <td>98.494034</td>\n",
       "      <td>98.184624</td>\n",
       "      <td>94</td>\n",
       "    </tr>\n",
       "  </tbody>\n",
       "</table>\n",
       "</div>"
      ],
      "text/plain": [
       "   Cycle  Capacity (Ah)    SOH (%)  Predicted SOH (%)  Predicted RUL (cycles)\n",
       "0     11       1.848912  99.122925          97.215584                      98\n",
       "1     13       1.847459  99.045036          98.512779                      97\n",
       "2     15       1.848649  99.108849          98.369507                      96\n",
       "3     17       1.837080  98.488586          98.303635                      95\n",
       "4     19       1.837181  98.494034          98.184624                      94"
      ]
     },
     "execution_count": 14,
     "metadata": {},
     "output_type": "execute_result"
    }
   ],
   "source": [
    "# Define threshold for End of Life (EOL)\n",
    "soh_threshold = 0.8 * (soh_max - soh_min) + soh_min  # 80% of original capacity\n",
    "\n",
    "# Calculate RUL: for each time step, count how many steps until SOH drops below threshold\n",
    "rul = []\n",
    "for i in range(len(predicted_soh)):\n",
    "    remaining = 0\n",
    "    for j in range(i, len(predicted_soh)):\n",
    "        if predicted_soh[j] >= soh_threshold:\n",
    "            remaining += 1\n",
    "        else:\n",
    "            break\n",
    "    rul.append(remaining)\n",
    "\n",
    "# Create a DataFrame to compare\n",
    "import pandas as pd\n",
    "\n",
    "results_df = pd.DataFrame({\n",
    "    'Cycle': df['Cycle'].iloc[-len(predicted_soh):].values,\n",
    "    'Capacity (Ah)': df['Capacity (Ah)'].iloc[-len(predicted_soh):].values,\n",
    "    'SOH (%)': actual_soh*100,\n",
    "    'Predicted SOH (%)': predicted_soh*100,\n",
    "    'Predicted RUL (cycles)': rul\n",
    "})\n",
    "\n",
    "results_df.head()\n"
   ]
  },
  {
   "cell_type": "code",
   "execution_count": 15,
   "id": "4cb13d8c-3092-4fc3-81ff-f1784edbe1de",
   "metadata": {},
   "outputs": [
    {
     "data": {
      "image/png": "[encoded data removed]",
      "text/plain": [
       "<Figure size 1000x500 with 1 Axes>"
      ]
     },
     "metadata": {},
     "output_type": "display_data"
    }
   ],
   "source": [
    "import matplotlib.pyplot as plt\n",
    "\n",
    "plt.figure(figsize=(10, 5))\n",
    "plt.plot(actual_soh, label='Actual SOH')\n",
    "plt.plot(predicted_soh, label='Predicted SOH (Transformer)')\n",
    "plt.xlabel('Cycle Index')\n",
    "plt.ylabel('SOH (%)')\n",
    "plt.title('Transformer: Actual vs Predicted SOH')\n",
    "plt.legend()\n",
    "plt.grid(True)\n",
    "plt.show()\n"
   ]
  },
  {
   "cell_type": "code",
   "execution_count": 16,
   "id": "6ed62d8a-7ca5-471d-ae19-b05d06111345",
   "metadata": {},
   "outputs": [
    {
     "data": {
      "image/png": "[encoded data removed]",
      "text/plain": [
       "<Figure size 1000x500 with 1 Axes>"
      ]
     },
     "metadata": {},
     "output_type": "display_data"
    }
   ],
   "source": [
    "import matplotlib.pyplot as plt\n",
    "\n",
    "plt.figure(figsize=(10, 5))\n",
    "plt.plot(results_df['Cycle'], results_df['Predicted RUL (cycles)'], marker='o', linestyle='-')\n",
    "plt.xlabel(\"Cycle\")\n",
    "plt.ylabel(\"Predicted RUL (cycles)\")\n",
    "plt.title(\"Predicted Remaining Useful Life (RUL) over Cycles\")\n",
    "plt.grid(True)\n",
    "plt.show()\n"
   ]
  },
  {
   "cell_type": "code",
   "execution_count": 17,
   "id": "f2744dea-e7d1-4b98-9b1f-1b2f2269d22e",
   "metadata": {},
   "outputs": [
    {
     "name": "stdout",
     "output_type": "stream",
     "text": [
      "MAE  (Mean Absolute Error): 0.0199\n",
      "RMSE (Root Mean Square Error): 0.0930\n",
      "R² Score (Closer to 1 is better): 0.5401\n"
     ]
    }
   ],
   "source": [
    "from sklearn.metrics import mean_absolute_error, mean_squared_error, r2_score\n",
    "import numpy as np\n",
    "\n",
    "mae = mean_absolute_error(actual_soh, predicted_soh)\n",
    "rmse = np.sqrt(mean_squared_error(actual_soh, predicted_soh))\n",
    "r2 = r2_score(actual_soh, predicted_soh)\n",
    "\n",
    "print(f\"MAE  (Mean Absolute Error): {mae:.4f}\")\n",
    "print(f\"RMSE (Root Mean Square Error): {rmse:.4f}\")\n",
    "print(f\"R² Score (Closer to 1 is better): {r2:.4f}\")\n"
   ]
  },
  {
   "cell_type": "code",
   "execution_count": null,
   "id": "eaf12cdf-ea68-46df-b6a8-1ebb57d0dc5c",
   "metadata": {},
   "outputs": [],
   "source": []
  }
 ],
 "metadata": {
  "kernelspec": {
   "display_name": "Python 3 (ipykernel)",
   "language": "python",
   "name": "python3"
  },
  "language_info": {
   "codemirror_mode": {
    "name": "ipython",
    "version": 3
   },
   "file_extension": ".py",
   "mimetype": "text/x-python",
   "name": "python",
   "nbconvert_exporter": "python",
   "pygments_lexer": "ipython3",
   "version": "3.11.9"
  }
 },
 "nbformat": 4,
 "nbformat_minor": 5
}
