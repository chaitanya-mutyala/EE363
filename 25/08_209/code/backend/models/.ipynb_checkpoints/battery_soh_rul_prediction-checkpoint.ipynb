{
 "cells": [
  {
   "cell_type": "code",
   "execution_count": 1,
   "id": "1840d154-7648-4981-b2f2-c8f209bb14df",
   "metadata": {},
   "outputs": [
    {
     "name": "stdout",
     "output_type": "stream",
     "text": [
      "dict_keys(['__header__', '__version__', '__globals__', 'B0005'])\n"
     ]
    }
   ],
   "source": [
    "import scipy.io\n",
    "import numpy as np\n",
    "import pandas as pd\n",
    "import matplotlib.pyplot as plt\n",
    "\n",
    "\n",
    "# Load the B0005.mat file\n",
    "data = scipy.io.loadmat(\"B0005.mat\")\n",
    "\n",
    "# Check what keys are in the data\n",
    "print(data.keys())\n"
   ]
  },
  {
   "cell_type": "code",
   "execution_count": 2,
   "id": "1cd1654f-cbf3-45e7-b36e-26a100f361dc",
   "metadata": {},
   "outputs": [
    {
     "name": "stdout",
     "output_type": "stream",
     "text": [
      "Fields in B0005: ('cycle',)\n"
     ]
    }
   ],
   "source": [
    "# Access the actual data under 'B0005' key\n",
    "battery = data['B0005'][0][0]\n",
    "\n",
    "# Show the field names inside B0005 (e.g., cycle, voltage_measured, capacity, etc.)\n",
    "print(\"Fields in B0005:\", battery.dtype.names)\n"
   ]
  },
  {
   "cell_type": "code",
   "execution_count": 3,
   "id": "6a5e034a-cbf5-4e86-8e66-7efdb271b5b1",
   "metadata": {},
   "outputs": [
    {
     "name": "stdout",
     "output_type": "stream",
     "text": [
      "Total cycles: 616\n",
      "Fields in one cycle: ('type', 'ambient_temperature', 'time', 'data')\n"
     ]
    }
   ],
   "source": [
    "# Get all cycle data (as a list of dict-like entries)\n",
    "cycles = battery['cycle'][0]\n",
    "\n",
    "# Check how many cycles are recorded\n",
    "print(\"Total cycles:\", len(cycles))\n",
    "\n",
    "# Show what's inside the first cycle\n",
    "print(\"Fields in one cycle:\", cycles[0].dtype.names)\n"
   ]
  },
  {
   "cell_type": "code",
   "execution_count": 4,
   "id": "27f9c88b-050c-4f0c-96d9-8b5f6354a0dd",
   "metadata": {},
   "outputs": [
    {
     "name": "stdout",
     "output_type": "stream",
     "text": [
      "Cycle #1 data fields: ('Voltage_measured', 'Current_measured', 'Temperature_measured', 'Current_charge', 'Voltage_charge', 'Time')\n"
     ]
    }
   ],
   "source": [
    "# Find first 'charge' cycle\n",
    "for i, cycle in enumerate(cycles):\n",
    "    if cycle['type'][0] == 'charge':\n",
    "        print(f\"Cycle #{i+1} data fields:\", cycle['data'].dtype.names)\n",
    "        break\n"
   ]
  },
  {
   "cell_type": "code",
   "execution_count": 5,
   "id": "fc50b318-47db-445f-b640-661cfacaa291",
   "metadata": {},
   "outputs": [
    {
     "data": {
      "text/html": [
       "<div>\n",
       "<style scoped>\n",
       "    .dataframe tbody tr th:only-of-type {\n",
       "        vertical-align: middle;\n",
       "    }\n",
       "\n",
       "    .dataframe tbody tr th {\n",
       "        vertical-align: top;\n",
       "    }\n",
       "\n",
       "    .dataframe thead th {\n",
       "        text-align: right;\n",
       "    }\n",
       "</style>\n",
       "<table border=\"1\" class=\"dataframe\">\n",
       "  <thead>\n",
       "    <tr style=\"text-align: right;\">\n",
       "      <th></th>\n",
       "      <th>Cycle</th>\n",
       "      <th>Capacity (Ah)</th>\n",
       "    </tr>\n",
       "  </thead>\n",
       "  <tbody>\n",
       "    <tr>\n",
       "      <th>0</th>\n",
       "      <td>1</td>\n",
       "      <td>0.770778</td>\n",
       "    </tr>\n",
       "    <tr>\n",
       "      <th>1</th>\n",
       "      <td>3</td>\n",
       "      <td>1.865272</td>\n",
       "    </tr>\n",
       "    <tr>\n",
       "      <th>2</th>\n",
       "      <td>5</td>\n",
       "      <td>1.858042</td>\n",
       "    </tr>\n",
       "    <tr>\n",
       "      <th>3</th>\n",
       "      <td>7</td>\n",
       "      <td>1.850149</td>\n",
       "    </tr>\n",
       "    <tr>\n",
       "      <th>4</th>\n",
       "      <td>9</td>\n",
       "      <td>1.848153</td>\n",
       "    </tr>\n",
       "  </tbody>\n",
       "</table>\n",
       "</div>"
      ],
      "text/plain": [
       "   Cycle  Capacity (Ah)\n",
       "0      1       0.770778\n",
       "1      3       1.865272\n",
       "2      5       1.858042\n",
       "3      7       1.850149\n",
       "4      9       1.848153"
      ]
     },
     "execution_count": 5,
     "metadata": {},
     "output_type": "execute_result"
    }
   ],
   "source": [
    "cycle_nums = []\n",
    "capacities = []\n",
    "\n",
    "for i, cycle in enumerate(cycles):\n",
    "    if cycle['type'][0] == 'charge':\n",
    "        data = cycle['data'][0, 0]\n",
    "        current = data['Current_charge'][0]\n",
    "        time = data['Time'][0]  # in seconds\n",
    "\n",
    "        # Convert time to seconds (some may be float strings)\n",
    "        try:\n",
    "            time = [float(t) for t in time]\n",
    "        except:\n",
    "            time = time.astype(float)\n",
    "\n",
    "        # Calculate delta_t and area under current curve\n",
    "        delta_t = np.diff(time)\n",
    "        current_avg = (current[1:] + current[:-1]) / 2\n",
    "        capacity = np.sum(current_avg * delta_t) / 3600  # Convert to Ah\n",
    "\n",
    "        cycle_nums.append(i + 1)\n",
    "        capacities.append(capacity)\n",
    "\n",
    "df = pd.DataFrame({\n",
    "    'Cycle': cycle_nums,\n",
    "    'Capacity (Ah)': capacities\n",
    "})\n",
    "\n",
    "df.head()\n"
   ]
  },
  {
   "cell_type": "code",
   "execution_count": 6,
   "id": "0282bbf5-3ebb-49b1-aacb-6ede599f558c",
   "metadata": {},
   "outputs": [
    {
     "data": {
      "image/png": "[encoded data removed]",
      "text/plain": [
       "<Figure size 1000x500 with 1 Axes>"
      ]
     },
     "metadata": {},
     "output_type": "display_data"
    }
   ],
   "source": [
    "# Visualization cell\n",
    "plt.figure(figsize=(10, 5))\n",
    "plt.plot(df['Cycle'], df['Capacity (Ah)'], marker='o', linestyle='-')\n",
    "plt.xlabel(\"Cycle Number\")\n",
    "plt.ylabel(\"Capacity (Ah)\")\n",
    "plt.title(\"Battery Capacity Degradation over Charge Cycles\")\n",
    "plt.grid(True)\n",
    "plt.show()\n"
   ]
  },
  {
   "cell_type": "code",
   "execution_count": 7,
   "id": "80d4498d-e79a-461b-83ac-076416574a51",
   "metadata": {},
   "outputs": [
    {
     "data": {
      "text/html": [
       "<div>\n",
       "<style scoped>\n",
       "    .dataframe tbody tr th:only-of-type {\n",
       "        vertical-align: middle;\n",
       "    }\n",
       "\n",
       "    .dataframe tbody tr th {\n",
       "        vertical-align: top;\n",
       "    }\n",
       "\n",
       "    .dataframe thead th {\n",
       "        text-align: right;\n",
       "    }\n",
       "</style>\n",
       "<table border=\"1\" class=\"dataframe\">\n",
       "  <thead>\n",
       "    <tr style=\"text-align: right;\">\n",
       "      <th></th>\n",
       "      <th>Cycle</th>\n",
       "      <th>Capacity (Ah)</th>\n",
       "      <th>SOH (%)</th>\n",
       "    </tr>\n",
       "  </thead>\n",
       "  <tbody>\n",
       "    <tr>\n",
       "      <th>0</th>\n",
       "      <td>1</td>\n",
       "      <td>0.770778</td>\n",
       "      <td>41.322550</td>\n",
       "    </tr>\n",
       "    <tr>\n",
       "      <th>1</th>\n",
       "      <td>3</td>\n",
       "      <td>1.865272</td>\n",
       "      <td>100.000000</td>\n",
       "    </tr>\n",
       "    <tr>\n",
       "      <th>2</th>\n",
       "      <td>5</td>\n",
       "      <td>1.858042</td>\n",
       "      <td>99.612425</td>\n",
       "    </tr>\n",
       "    <tr>\n",
       "      <th>3</th>\n",
       "      <td>7</td>\n",
       "      <td>1.850149</td>\n",
       "      <td>99.189259</td>\n",
       "    </tr>\n",
       "    <tr>\n",
       "      <th>4</th>\n",
       "      <td>9</td>\n",
       "      <td>1.848153</td>\n",
       "      <td>99.082267</td>\n",
       "    </tr>\n",
       "  </tbody>\n",
       "</table>\n",
       "</div>"
      ],
      "text/plain": [
       "   Cycle  Capacity (Ah)     SOH (%)\n",
       "0      1       0.770778   41.322550\n",
       "1      3       1.865272  100.000000\n",
       "2      5       1.858042   99.612425\n",
       "3      7       1.850149   99.189259\n",
       "4      9       1.848153   99.082267"
      ]
     },
     "execution_count": 7,
     "metadata": {},
     "output_type": "execute_result"
    }
   ],
   "source": [
    "initial_capacity = df['Capacity (Ah)'].max()\n",
    "df['SOH (%)'] = (df['Capacity (Ah)'] / initial_capacity) * 100\n",
    "\n",
    "\n",
    "\n",
    "# Show a preview\n",
    "df.head()\n"
   ]
  },
  {
   "cell_type": "code",
   "execution_count": null,
   "id": "e495aef7-f586-4704-bd90-674b0cf315e4",
   "metadata": {},
   "outputs": [],
   "source": []
  },
  {
   "cell_type": "code",
   "execution_count": 8,
   "id": "92def3c8-7c36-4743-bf41-974b2b2c53a3",
   "metadata": {},
   "outputs": [
    {
     "name": "stdout",
     "output_type": "stream",
     "text": [
      "Input sequence shape: (165, 5)\n",
      "Target shape: (165,)\n"
     ]
    }
   ],
   "source": [
    "# Create sequences\n",
    "def create_sequences(data, seq_len=5):\n",
    "    xs = []\n",
    "    ys = []\n",
    "    for i in range(len(data) - seq_len):\n",
    "        x = data[i:i+seq_len]\n",
    "        y = data[i+seq_len]\n",
    "        xs.append(x)\n",
    "        ys.append(y)\n",
    "    return np.array(xs), np.array(ys)\n",
    "\n",
    "# Only use SOH (%) column\n",
    "soh_values = df['SOH (%)'].values\n",
    "X, y = create_sequences(soh_values, seq_len=5)\n",
    "\n",
    "print(\"Input sequence shape:\", X.shape)\n",
    "print(\"Target shape:\", y.shape)\n"
   ]
  },
  {
   "cell_type": "code",
   "execution_count": 9,
   "id": "21b26474-0da9-44a1-8d78-a71a41033724",
   "metadata": {},
   "outputs": [],
   "source": [
    "import torch\n",
    "from torch.utils.data import Dataset, DataLoader\n",
    "\n",
    "class SOHDataset(Dataset):\n",
    "    def __init__(self, X, y):\n",
    "        self.X = torch.tensor(X, dtype=torch.float32)\n",
    "        self.y = torch.tensor(y, dtype=torch.float32)\n",
    "\n",
    "    def __len__(self):\n",
    "        return len(self.X)\n",
    "\n",
    "    def __getitem__(self, idx):\n",
    "        return self.X[idx], self.y[idx]\n",
    "\n",
    "# Create dataset and dataloader\n",
    "dataset = SOHDataset(X, y)\n",
    "dataloader = DataLoader(dataset, batch_size=16, shuffle=True)\n"
   ]
  },
  {
   "cell_type": "code",
   "execution_count": 10,
   "id": "ada58087-4392-4211-90ed-e689b0fa7261",
   "metadata": {},
   "outputs": [
    {
     "name": "stdout",
     "output_type": "stream",
     "text": [
      "SOHPredictor(\n",
      "  (net): Sequential(\n",
      "    (0): Linear(in_features=5, out_features=64, bias=True)\n",
      "    (1): ReLU()\n",
      "    (2): Linear(in_features=64, out_features=32, bias=True)\n",
      "    (3): ReLU()\n",
      "    (4): Linear(in_features=32, out_features=1, bias=True)\n",
      "  )\n",
      ")\n"
     ]
    }
   ],
   "source": [
    "import torch.nn as nn\n",
    "\n",
    "class SOHPredictor(nn.Module):\n",
    "    def __init__(self):\n",
    "        super(SOHPredictor, self).__init__()\n",
    "        self.net = nn.Sequential(\n",
    "            nn.Linear(5, 64),\n",
    "            nn.ReLU(),\n",
    "            nn.Linear(64, 32),\n",
    "            nn.ReLU(),\n",
    "            nn.Linear(32, 1)\n",
    "        )\n",
    "\n",
    "    def forward(self, x):\n",
    "        return self.net(x)\n",
    "\n",
    "model = SOHPredictor()\n",
    "print(model)\n"
   ]
  },
  {
   "cell_type": "code",
   "execution_count": 11,
   "id": "78530ed1-1af1-4c83-8bd1-31d9f109d54d",
   "metadata": {},
   "outputs": [],
   "source": [
    "# Normalize target (SOH) values\n",
    "soh_min = y.min()\n",
    "soh_max = y.max()\n",
    "y_norm = (y - soh_min) / (soh_max - soh_min)\n",
    "\n",
    "# Replace target in TensorDataset\n",
    "dataset = torch.utils.data.TensorDataset(torch.tensor(X, dtype=torch.float32),\n",
    "                                         torch.tensor(y_norm, dtype=torch.float32))\n",
    "dataloader = torch.utils.data.DataLoader(dataset, batch_size=16, shuffle=True)\n"
   ]
  },
  {
   "cell_type": "code",
   "execution_count": 19,
   "id": "e6af6e78-e6bc-4bda-a34b-2e82e549d3cc",
   "metadata": {},
   "outputs": [
    {
     "name": "stdout",
     "output_type": "stream",
     "text": [
      "Epoch [10/130], Loss: 0.1014\n",
      "Epoch [20/130], Loss: 0.1381\n",
      "Epoch [30/130], Loss: 0.1986\n",
      "Epoch [40/130], Loss: 0.1089\n",
      "Epoch [50/130], Loss: 0.1282\n",
      "Epoch [60/130], Loss: 0.1336\n",
      "Epoch [70/130], Loss: 0.1201\n",
      "Epoch [80/130], Loss: 0.2064\n",
      "Epoch [90/130], Loss: 0.2805\n",
      "Epoch [100/130], Loss: 0.2400\n",
      "Epoch [110/130], Loss: 0.1032\n",
      "Epoch [120/130], Loss: 0.2342\n",
      "Epoch [130/130], Loss: 0.1394\n"
     ]
    }
   ],
   "source": [
    "import torch.optim as optim\n",
    "\n",
    "# Loss function and optimizer\n",
    "criterion = nn.MSELoss()\n",
    "optimizer = optim.Adam(model.parameters(), lr=0.001)\n",
    "\n",
    "# Training loop\n",
    "epochs = 130\n",
    "for epoch in range(epochs):\n",
    "    running_loss = 0.0\n",
    "    for inputs, targets in dataloader:\n",
    "        optimizer.zero_grad()\n",
    "        outputs = model(inputs).squeeze()\n",
    "        loss = criterion(outputs, targets)\n",
    "        loss.backward()\n",
    "        optimizer.step()\n",
    "        running_loss += loss.item()\n",
    "    if (epoch + 1) % 10 == 0:\n",
    "        print(f\"Epoch [{epoch+1}/{epochs}], Loss: {running_loss:.4f}\")\n"
   ]
  },
  {
   "cell_type": "code",
   "execution_count": 20,
   "id": "c6e53b5c-88ee-442a-88ec-c88919f9facc",
   "metadata": {},
   "outputs": [],
   "source": [
    "# Set model to evaluation mode\n",
    "model.eval()\n",
    "\n",
    "# Get predictions for the entire dataset (or use a test set if available)\n",
    "with torch.no_grad():\n",
    "    inputs = torch.tensor(X, dtype=torch.float32)\n",
    "    predicted = model(inputs).squeeze().numpy()\n",
    "\n",
    "# De-normalize\n",
    "predicted_soh = predicted * (soh_max - soh_min) + soh_min\n"
   ]
  },
  {
   "cell_type": "code",
   "execution_count": 21,
   "id": "4e43a252-697e-44b4-9626-96d5233a2a60",
   "metadata": {},
   "outputs": [
    {
     "data": {
      "image/png": "[encoded data removed]",
      "text/plain": [
       "<Figure size 640x480 with 1 Axes>"
      ]
     },
     "metadata": {},
     "output_type": "display_data"
    }
   ],
   "source": [
    "import matplotlib.pyplot as plt\n",
    "\n",
    "plt.plot(y, label='Actual SOH')\n",
    "plt.plot(predicted_soh, label='Predicted SOH')\n",
    "plt.xlabel('Cycle Index')\n",
    "plt.ylabel('SOH (%)')\n",
    "plt.title('Actual vs Predicted SOH')\n",
    "plt.legend()\n",
    "plt.grid(True)\n",
    "plt.show()\n"
   ]
  },
  {
   "cell_type": "code",
   "execution_count": 22,
   "id": "08afc0ad-02e0-41f0-8c31-c4546831c48d",
   "metadata": {},
   "outputs": [
    {
     "data": {
      "text/html": [
       "<div>\n",
       "<style scoped>\n",
       "    .dataframe tbody tr th:only-of-type {\n",
       "        vertical-align: middle;\n",
       "    }\n",
       "\n",
       "    .dataframe tbody tr th {\n",
       "        vertical-align: top;\n",
       "    }\n",
       "\n",
       "    .dataframe thead th {\n",
       "        text-align: right;\n",
       "    }\n",
       "</style>\n",
       "<table border=\"1\" class=\"dataframe\">\n",
       "  <thead>\n",
       "    <tr style=\"text-align: right;\">\n",
       "      <th></th>\n",
       "      <th>Cycle</th>\n",
       "      <th>Capacity (Ah)</th>\n",
       "      <th>SOH (%)</th>\n",
       "      <th>Predicted SOH (%)</th>\n",
       "      <th>Predicted RUL (cycles)</th>\n",
       "    </tr>\n",
       "  </thead>\n",
       "  <tbody>\n",
       "    <tr>\n",
       "      <th>5</th>\n",
       "      <td>11</td>\n",
       "      <td>1.848912</td>\n",
       "      <td>99.122922</td>\n",
       "      <td>98.746481</td>\n",
       "      <td>97</td>\n",
       "    </tr>\n",
       "    <tr>\n",
       "      <th>6</th>\n",
       "      <td>13</td>\n",
       "      <td>1.847459</td>\n",
       "      <td>99.045039</td>\n",
       "      <td>97.801044</td>\n",
       "      <td>96</td>\n",
       "    </tr>\n",
       "    <tr>\n",
       "      <th>7</th>\n",
       "      <td>15</td>\n",
       "      <td>1.848649</td>\n",
       "      <td>99.108851</td>\n",
       "      <td>97.377961</td>\n",
       "      <td>95</td>\n",
       "    </tr>\n",
       "    <tr>\n",
       "      <th>8</th>\n",
       "      <td>17</td>\n",
       "      <td>1.837080</td>\n",
       "      <td>98.488584</td>\n",
       "      <td>97.152659</td>\n",
       "      <td>94</td>\n",
       "    </tr>\n",
       "    <tr>\n",
       "      <th>9</th>\n",
       "      <td>19</td>\n",
       "      <td>1.837181</td>\n",
       "      <td>98.494035</td>\n",
       "      <td>97.265756</td>\n",
       "      <td>93</td>\n",
       "    </tr>\n",
       "  </tbody>\n",
       "</table>\n",
       "</div>"
      ],
      "text/plain": [
       "   Cycle  Capacity (Ah)    SOH (%)  Predicted SOH (%)  Predicted RUL (cycles)\n",
       "5     11       1.848912  99.122922          98.746481                      97\n",
       "6     13       1.847459  99.045039          97.801044                      96\n",
       "7     15       1.848649  99.108851          97.377961                      95\n",
       "8     17       1.837080  98.488584          97.152659                      94\n",
       "9     19       1.837181  98.494035          97.265756                      93"
      ]
     },
     "execution_count": 22,
     "metadata": {},
     "output_type": "execute_result"
    }
   ],
   "source": [
    "# --- RUL Calculation ---\n",
    "\n",
    "# Define threshold for end-of-life\n",
    "soh_threshold = 80.0  # in %\n",
    "\n",
    "# Calculate RUL: for each cycle, find how many steps until predicted SOH drops below 80%\n",
    "rul = []\n",
    "for i in range(len(predicted_soh)):\n",
    "    remaining = 0\n",
    "    for j in range(i, len(predicted_soh)):\n",
    "        if predicted_soh[j] >= soh_threshold:\n",
    "            remaining += 1\n",
    "        else:\n",
    "            break\n",
    "    rul.append(remaining)\n",
    "\n",
    "# Add RUL to DataFrame (for matching)\n",
    "df_rul = df.iloc[5:].copy()  # Since first 5 cycles are used for sequence input\n",
    "df_rul['Predicted SOH (%)'] = predicted_soh\n",
    "df_rul['Predicted RUL (cycles)'] = rul\n",
    "\n",
    "# Show sample\n",
    "df_rul.head()\n"
   ]
  },
  {
   "cell_type": "code",
   "execution_count": 23,
   "id": "14392442-f5db-4fd2-b8a8-b0fd6cd5c4eb",
   "metadata": {},
   "outputs": [
    {
     "data": {
      "image/png": "[encoded data removed]",
      "text/plain": [
       "<Figure size 1000x500 with 1 Axes>"
      ]
     },
     "metadata": {},
     "output_type": "display_data"
    }
   ],
   "source": [
    "# --- RUL Visualization ---\n",
    "plt.figure(figsize=(10, 5))\n",
    "plt.plot(df_rul['Cycle'], df_rul['Predicted RUL (cycles)'], marker='o', linestyle='-')\n",
    "plt.xlabel(\"Cycle Number\")\n",
    "plt.ylabel(\"Predicted RUL (Cycles)\")\n",
    "plt.title(\"Predicted Remaining Useful Life over Cycles\")\n",
    "plt.grid(True)\n",
    "plt.show()\n"
   ]
  },
  {
   "cell_type": "code",
   "execution_count": 24,
   "id": "3d57c749-d76a-4b16-917b-7a97306659aa",
   "metadata": {},
   "outputs": [],
   "source": [
    "X_tensor = torch.tensor(X, dtype=torch.float32)\n",
    "predicted_soh = model(X_tensor).detach().numpy()\n"
   ]
  },
  {
   "cell_type": "code",
   "execution_count": 25,
   "id": "ebb45712-e30b-4659-943d-553d52e276b4",
   "metadata": {},
   "outputs": [
    {
     "name": "stdout",
     "output_type": "stream",
     "text": [
      "\n",
      "📊 Model Evaluation Metrics:\n",
      "MAE  (Mean Absolute Error): 81.89\n",
      "RMSE (Root Mean Square Error): 83.00\n",
      "R² Score (Closer to 1 is better): -35.65\n"
     ]
    }
   ],
   "source": [
    "from sklearn.metrics import mean_absolute_error, mean_squared_error, r2_score\n",
    "import numpy as np\n",
    "\n",
    "# Compare actual and predicted SOH\n",
    "mae = mean_absolute_error(y, predicted_soh)\n",
    "rmse = np.sqrt(mean_squared_error(y, predicted_soh))\n",
    "r2 = r2_score(y, predicted_soh)\n",
    "\n",
    "print(f\"\\n📊 Model Evaluation Metrics:\")\n",
    "print(f\"MAE  (Mean Absolute Error): {mae:.2f}\")\n",
    "print(f\"RMSE (Root Mean Square Error): {rmse:.2f}\")\n",
    "print(f\"R² Score (Closer to 1 is better): {r2:.2f}\")\n"
   ]
  },
  {
   "cell_type": "code",
   "execution_count": null,
   "id": "14b2dd6a-c065-4b00-9042-fdb5a7e3dccb",
   "metadata": {},
   "outputs": [],
   "source": []
  }
 ],
 "metadata": {
  "kernelspec": {
   "display_name": "Python 3 (ipykernel)",
   "language": "python",
   "name": "python3"
  },
  "language_info": {
   "codemirror_mode": {
    "name": "ipython",
    "version": 3
   },
   "file_extension": ".py",
   "mimetype": "text/x-python",
   "name": "python",
   "nbconvert_exporter": "python",
   "pygments_lexer": "ipython3",
   "version": "3.11.9"
  }
 },
 "nbformat": 4,
 "nbformat_minor": 5
}
